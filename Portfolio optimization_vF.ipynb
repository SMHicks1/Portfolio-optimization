{
 "cells": [
  {
   "cell_type": "markdown",
   "id": "57cafc87",
   "metadata": {},
   "source": [
    "### 1. Load libraries, set tickers and dates"
   ]
  },
  {
   "cell_type": "code",
   "execution_count": null,
   "id": "dc91a02e",
   "metadata": {},
   "outputs": [],
   "source": [
    "import pandas as pd\n",
    "import numpy as np\n",
    "import datetime as dt\n",
    "import yfinance as yf\n",
    "from scipy.optimize import minimize"
   ]
  },
  {
   "cell_type": "code",
   "execution_count": null,
   "id": "f30786ac",
   "metadata": {},
   "outputs": [],
   "source": [
    "start = dt.datetime(2015,1,1) \n",
    "end = dt.datetime.now()"
   ]
  },
  {
   "cell_type": "code",
   "execution_count": null,
   "id": "757ac082",
   "metadata": {},
   "outputs": [],
   "source": [
    "tickers = ['VB', 'VO', 'VV', 'VNQ', 'VEA', 'VWO'] #list securities/funds in portfolio"
   ]
  },
  {
   "cell_type": "markdown",
   "id": "57b4e9eb",
   "metadata": {},
   "source": [
    "### 2. Download price data, convert to returns"
   ]
  },
  {
   "cell_type": "code",
   "execution_count": null,
   "id": "cbf75aac",
   "metadata": {},
   "outputs": [],
   "source": [
    "df = yf.download(tickers, start, end) "
   ]
  },
  {
   "cell_type": "code",
   "execution_count": null,
   "id": "26b7b226",
   "metadata": {},
   "outputs": [],
   "source": [
    "df"
   ]
  },
  {
   "cell_type": "code",
   "execution_count": null,
   "id": "34192b2c",
   "metadata": {},
   "outputs": [],
   "source": [
    "prices = df[['Adj Close']]\n",
    "prices"
   ]
  },
  {
   "cell_type": "code",
   "execution_count": null,
   "id": "b0fe96a4",
   "metadata": {},
   "outputs": [],
   "source": [
    "returns=prices.pct_change(1).dropna()\n",
    "returns"
   ]
  },
  {
   "cell_type": "markdown",
   "id": "36af7b33",
   "metadata": {},
   "source": [
    "### 3. Prepare data for optimization"
   ]
  },
  {
   "cell_type": "code",
   "execution_count": null,
   "id": "e124c3e7",
   "metadata": {},
   "outputs": [],
   "source": [
    "returns.describe() #review data - emsure all tickers have the same number of observations in the data"
   ]
  },
  {
   "cell_type": "code",
   "execution_count": null,
   "id": "6e2ff796",
   "metadata": {},
   "outputs": [],
   "source": [
    "num_stocks = len(returns.columns) #Create the initial weights for the optimization function \n",
    "\n",
    "init_weights = [1/num_stocks] * num_stocks"
   ]
  },
  {
   "cell_type": "code",
   "execution_count": null,
   "id": "3f845c76",
   "metadata": {},
   "outputs": [],
   "source": [
    "rf_rate = .03 #set the risk-free rate for Sharpe Ratio calculation "
   ]
  },
  {
   "cell_type": "code",
   "execution_count": null,
   "id": "9b7812f9",
   "metadata": {},
   "outputs": [],
   "source": [
    "vcv = returns.cov() #create the variance-co-variance matrix (needed for portfolio variance/std. dev. calcs)"
   ]
  },
  {
   "cell_type": "code",
   "execution_count": null,
   "id": "a997e86f",
   "metadata": {},
   "outputs": [],
   "source": [
    "def get_ret_sd_sr(weights): #returns the portfolios expected return, variance, standard deviation, and sharpe ratio in one array\n",
    "    ret = np.dot(np.transpose(weights), returns.mean()) * 252\n",
    "    var = np.dot(np.transpose(weights), np.dot(vcv, weights))\n",
    "    sd = np.sqrt(var) * np.sqrt(252)\n",
    "    sr = (ret-rf_rate)/sd\n",
    "    \n",
    "    return np.array([ret,sd,sr])"
   ]
  },
  {
   "cell_type": "code",
   "execution_count": null,
   "id": "64eadfe4",
   "metadata": {},
   "outputs": [],
   "source": [
    "get_ret_sd_sr(init_weights)"
   ]
  },
  {
   "cell_type": "code",
   "execution_count": null,
   "id": "89362a1e",
   "metadata": {},
   "outputs": [],
   "source": [
    "def neg_sharpe(weights): #function that transforms Sharpe Ratio to a negative value since the optimization we're running is a minimization\n",
    "    return get_ret_sd_sr(weights)[2] * -1"
   ]
  },
  {
   "cell_type": "code",
   "execution_count": null,
   "id": "63714116",
   "metadata": {},
   "outputs": [],
   "source": [
    "neg_sharpe(init_weights)"
   ]
  },
  {
   "cell_type": "code",
   "execution_count": null,
   "id": "7b31b40a",
   "metadata": {},
   "outputs": [],
   "source": [
    "bounds = tuple((0.05,.333333) for i in range (num_stocks)) #setting the bounds for the weights of the funds - adjust as needed"
   ]
  },
  {
   "cell_type": "code",
   "execution_count": null,
   "id": "e4dfe68e",
   "metadata": {},
   "outputs": [],
   "source": [
    "cons = ({'type' : 'eq', 'fun': lambda x : np.sum(x) - 1}) #setting the constraint that the portfolio weights must sum to 100%"
   ]
  },
  {
   "cell_type": "markdown",
   "id": "4851c556",
   "metadata": {},
   "source": [
    "### 4. Run optimization "
   ]
  },
  {
   "cell_type": "code",
   "execution_count": null,
   "id": "6b1a8841",
   "metadata": {},
   "outputs": [],
   "source": [
    "results = minimize(neg_sharpe, init_weights, bounds=bounds, constraints=cons) #optimization function"
   ]
  },
  {
   "cell_type": "code",
   "execution_count": null,
   "id": "119053d0",
   "metadata": {},
   "outputs": [],
   "source": [
    "optimized_weights = pd.DataFrame(results['x'].round(3)*100) #converts results to table in percent form with one decimal\n",
    "optimized_weights.index = returns.columns\n",
    "optimized_weights"
   ]
  },
  {
   "cell_type": "markdown",
   "id": "4a7ff5dd",
   "metadata": {},
   "source": [
    "### 5. Review optimial portfolio results "
   ]
  },
  {
   "cell_type": "code",
   "execution_count": null,
   "id": "d580234c",
   "metadata": {},
   "outputs": [],
   "source": [
    "opt_weights = optimized_weights.values.tolist() #create list of optimized weights \n",
    "opt_weights"
   ]
  },
  {
   "cell_type": "code",
   "execution_count": null,
   "id": "58c84877",
   "metadata": {},
   "outputs": [],
   "source": [
    "get_ret_sd_sr(opt_weights) #input optimized weights to view optimal portfolio returns, volatility and share ratio"
   ]
  },
  {
   "cell_type": "code",
   "execution_count": null,
   "id": "afc1eec1",
   "metadata": {},
   "outputs": [],
   "source": [
    "exp_returns =returns.mean()*252 #view expected returns, based on historal average, for each security \n",
    "exp_returns"
   ]
  },
  {
   "cell_type": "code",
   "execution_count": null,
   "id": "36d25cff",
   "metadata": {},
   "outputs": [],
   "source": []
  }
 ],
 "metadata": {
  "kernelspec": {
   "display_name": "Python 3",
   "language": "python",
   "name": "python3"
  },
  "language_info": {
   "codemirror_mode": {
    "name": "ipython",
    "version": 3
   },
   "file_extension": ".py",
   "mimetype": "text/x-python",
   "name": "python",
   "nbconvert_exporter": "python",
   "pygments_lexer": "ipython3",
   "version": "3.8.8"
  }
 },
 "nbformat": 4,
 "nbformat_minor": 5
}
